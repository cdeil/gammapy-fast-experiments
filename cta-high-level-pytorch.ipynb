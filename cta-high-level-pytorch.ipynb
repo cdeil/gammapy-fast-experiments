{
 "cells": [
  {
   "cell_type": "markdown",
   "metadata": {},
   "source": [
    "# Example of simple fit with PyTorch\n",
    "\n",
    "* First implement in Numpy and with scipy.optimize\n",
    "* Then try to do the same with PyTorch and TensorFlow\n",
    "* Then try to do something more interesting with gamma-ray data"
   ]
  },
  {
   "cell_type": "code",
   "execution_count": 1,
   "metadata": {},
   "outputs": [],
   "source": [
    "import numpy as np\n",
    "from scipy.optimize import minimize"
   ]
  },
  {
   "cell_type": "markdown",
   "metadata": {},
   "source": [
    "## Example data\n",
    "\n",
    "Best-fit line has pars = (2, 0), i.e. slope 2, and intercept 0"
   ]
  },
  {
   "cell_type": "code",
   "execution_count": 2,
   "metadata": {},
   "outputs": [],
   "source": [
    "x = np.array([1, 2, 3])\n",
    "y = np.array([2, 4, 6])\n",
    "data = {'x': x, 'y': y}"
   ]
  },
  {
   "cell_type": "markdown",
   "metadata": {},
   "source": [
    "## Numpy & Scipy\n",
    "\n",
    "Define cost function using Numpy; fit with scipy.optimize.minimize"
   ]
  },
  {
   "cell_type": "code",
   "execution_count": 3,
   "metadata": {},
   "outputs": [
    {
     "name": "stdout",
     "output_type": "stream",
     "text": [
      "      fun: 5.602873721148142e-13\n",
      " hess_inv: array([[ 0.24995886, -0.50004917],\n",
      "       [-0.50004917,  1.16660792]])\n",
      "      jac: array([-5.37158973e-06, -2.43206103e-06])\n",
      "  message: 'Optimization terminated successfully.'\n",
      "     nfev: 32\n",
      "      nit: 5\n",
      "     njev: 8\n",
      "   status: 0\n",
      "  success: True\n",
      "        x: array([ 1.99999984e+00, -9.94556075e-08])\n"
     ]
    }
   ],
   "source": [
    "def model(pars, x):\n",
    "    return pars[0] * x + pars[1]\n",
    "\n",
    "def cost(pars, data):\n",
    "    y_model = model(pars, data['x'])\n",
    "    dy = data['y'] - y_model\n",
    "    return np.sum(dy ** 2)\n",
    "\n",
    "pars = (42, 42) # any incorrect start values\n",
    "res = minimize(cost, pars, args=(data,))\n",
    "print(res) # correct result: slope = 2, intercept: 0"
   ]
  },
  {
   "cell_type": "markdown",
   "metadata": {},
   "source": [
    "## PyTorch\n",
    "\n",
    "Let's try to do the same thing using PyTorch"
   ]
  },
  {
   "cell_type": "code",
   "execution_count": 4,
   "metadata": {},
   "outputs": [
    {
     "name": "stdout",
     "output_type": "stream",
     "text": [
      "1.9935346841812134\n",
      "0.01469734963029623\n"
     ]
    }
   ],
   "source": [
    "import torch\n",
    "from torch.autograd import Variable\n",
    "from torch.optim import SGD\n",
    "\n",
    "def model(x, w1, w2):\n",
    "    return w1 * x + w2\n",
    "\n",
    "def cost(out, label):\n",
    "    return torch.sum((label - out) ** 2)\n",
    "\n",
    "x = Variable(torch.Tensor([1, 2, 3]), requires_grad=False)\n",
    "# x_tensor = Variable(torch.from_numpy(x))\n",
    "y = Variable(torch.Tensor([2, 4, 6]), requires_grad=False)\n",
    "\n",
    "w1 = Variable(torch.Tensor([42]), requires_grad=True) # any incorrect start values\n",
    "w2 = Variable(torch.Tensor([42]), requires_grad=True) # any incorrect start values\n",
    "\n",
    "optimizer = SGD([w1, w2], lr=0.01)\n",
    "\n",
    "for i in range(1000):\n",
    "    optimizer.zero_grad()\n",
    "\n",
    "    y_model = model(x, w1, w2)\n",
    "    loss = cost(y_model, y)\n",
    "    loss.backward()\n",
    "    optimizer.step()\n",
    "\n",
    "print(float(w1))\n",
    "print(float(w2))"
   ]
  },
  {
   "cell_type": "markdown",
   "metadata": {},
   "source": [
    "## Tensorflow\n",
    "\n",
    "Let's try to do the same thing using TensorFlow"
   ]
  },
  {
   "cell_type": "code",
   "execution_count": 6,
   "metadata": {},
   "outputs": [
    {
     "name": "stdout",
     "output_type": "stream",
     "text": [
      "0 [[-1.7221999]] [0.02700001]\n",
      "1 [[-1.9523064]] [0.03117361]\n",
      "2 [[-1.9830445]] [0.03225204]\n",
      "3 [[-1.9871444]] [0.03287534]\n",
      "4 [[-1.9876854]] [0.03339959]\n",
      "5 [[-1.9877515]] [0.0338754]\n",
      "6 [[-1.9877547]] [0.03431235]\n",
      "7 [[-1.9877499]] [0.03471432]\n",
      "8 [[-1.9877445]] [0.03508417]\n",
      "9 [[-1.9877392]] [0.03542452]\n"
     ]
    }
   ],
   "source": [
    "import tensorflow as tf\n",
    "\n",
    "x = tf.placeholder(tf.float32, [None, 1])\n",
    "y_ = tf.placeholder(tf.float32, [None, 1])\n",
    "\n",
    "b = tf.Variable(tf.zeros([1]))\n",
    "w = tf.Variable(tf.zeros([1, 1]))\n",
    "\n",
    "y = w * x + b\n",
    "\n",
    "loss = tf.reduce_sum((y - y_) * (y - y_))\n",
    "train_step = tf.train.GradientDescentOptimizer(0.005).minimize(loss)\n",
    "\n",
    "sess = tf.Session()\n",
    "sess.run(tf.global_variables_initializer())\n",
    "\n",
    "for step in range(10):\n",
    "    sess.run(train_step, feed_dict={x:[[2.3],[1.7],[-3.8],[0.5],[-4.1],[-1.5],[-2.5],[6.2]],\n",
    "                                    y_:[[-4.4],[-3.6],[7.7],[-0.9],[8.3],[2.9],[4.9],[-12.2]]})\n",
    "    print(step, sess.run(w), sess.run(b))"
   ]
  },
  {
   "cell_type": "code",
   "execution_count": null,
   "metadata": {},
   "outputs": [],
   "source": []
  }
 ],
 "metadata": {
  "kernelspec": {
   "display_name": "Python 3",
   "language": "python",
   "name": "python3"
  },
  "language_info": {
   "codemirror_mode": {
    "name": "ipython",
    "version": 3
   },
   "file_extension": ".py",
   "mimetype": "text/x-python",
   "name": "python",
   "nbconvert_exporter": "python",
   "pygments_lexer": "ipython3",
   "version": "3.6.5"
  }
 },
 "nbformat": 4,
 "nbformat_minor": 2
}
