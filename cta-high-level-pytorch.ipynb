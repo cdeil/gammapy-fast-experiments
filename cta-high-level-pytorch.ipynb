{
 "cells": [
  {
   "cell_type": "markdown",
   "metadata": {},
   "source": [
    "# Example of simple fit with PyTorch\n",
    "\n",
    "* First implement in Numpy and with scipy.optimize\n",
    "* Then try to do the same with PyTorch and TensorFlow\n",
    "* Then try to do something more interesting with gamma-ray data"
   ]
  },
  {
   "cell_type": "code",
   "execution_count": 22,
   "metadata": {},
   "outputs": [],
   "source": [
    "import numpy as np\n",
    "from scipy.optimize import minimize"
   ]
  },
  {
   "cell_type": "markdown",
   "metadata": {},
   "source": [
    "## Example data\n",
    "\n",
    "Best-fit line has pars = (2, 0), i.e. slope 2, and intercept 0"
   ]
  },
  {
   "cell_type": "code",
   "execution_count": 23,
   "metadata": {},
   "outputs": [],
   "source": [
    "x = np.array([1, 2, 3])\n",
    "y = np.array([2, 4, 6])\n",
    "data = {'x': x, 'y': y}"
   ]
  },
  {
   "cell_type": "markdown",
   "metadata": {},
   "source": [
    "## Numpy & Scipy\n",
    "\n",
    "Define cost function using Numpy; fit with scipy.optimize.minimize"
   ]
  },
  {
   "cell_type": "code",
   "execution_count": 25,
   "metadata": {},
   "outputs": [
    {
     "name": "stdout",
     "output_type": "stream",
     "text": [
      "      fun: 5.602873721148142e-13\n",
      " hess_inv: array([[ 0.24995886, -0.50004917],\n",
      "       [-0.50004917,  1.16660792]])\n",
      "      jac: array([-5.37158973e-06, -2.43206103e-06])\n",
      "  message: 'Optimization terminated successfully.'\n",
      "     nfev: 32\n",
      "      nit: 5\n",
      "     njev: 8\n",
      "   status: 0\n",
      "  success: True\n",
      "        x: array([ 1.99999984e+00, -9.94556075e-08])\n"
     ]
    }
   ],
   "source": [
    "def cost(pars, data):\n",
    "    y_model = pars[0] * data['x'] + pars[1]\n",
    "    dy = data['y'] - y_model\n",
    "    return np.sum(dy ** 2)\n",
    "\n",
    "pars = (42, 42) # any incorrect start values\n",
    "res = minimize(cost, pars, args=(data,))\n",
    "print(res) # correct result: slope = 2, intercept: 0"
   ]
  },
  {
   "cell_type": "markdown",
   "metadata": {},
   "source": [
    "## PyTorch\n",
    "\n",
    "Let's try to do the same thing using PyTorch"
   ]
  },
  {
   "cell_type": "code",
   "execution_count": 26,
   "metadata": {},
   "outputs": [],
   "source": [
    "import torch"
   ]
  },
  {
   "cell_type": "markdown",
   "metadata": {},
   "source": [
    "## Tensorflow\n",
    "\n",
    "Let's try to do the same thing using TensorFlow"
   ]
  },
  {
   "cell_type": "code",
   "execution_count": 27,
   "metadata": {},
   "outputs": [],
   "source": [
    "import tensorflow as tf"
   ]
  },
  {
   "cell_type": "code",
   "execution_count": null,
   "metadata": {},
   "outputs": [],
   "source": []
  }
 ],
 "metadata": {
  "kernelspec": {
   "display_name": "Python 3",
   "language": "python",
   "name": "python3"
  },
  "language_info": {
   "codemirror_mode": {
    "name": "ipython",
    "version": 3
   },
   "file_extension": ".py",
   "mimetype": "text/x-python",
   "name": "python",
   "nbconvert_exporter": "python",
   "pygments_lexer": "ipython3",
   "version": "3.6.5"
  }
 },
 "nbformat": 4,
 "nbformat_minor": 2
}
